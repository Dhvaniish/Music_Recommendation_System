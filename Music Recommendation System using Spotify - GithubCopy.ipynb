{
 "cells": [
  {
   "cell_type": "code",
   "execution_count": 1,
   "id": "6942d4fc",
   "metadata": {},
   "outputs": [],
   "source": [
    "import spotipy\n",
    "from spotipy.oauth2 import SpotifyClientCredentials\n",
    "import spotipy.util as util"
   ]
  },
  {
   "cell_type": "code",
   "execution_count": 2,
   "id": "4bfee005",
   "metadata": {},
   "outputs": [],
   "source": [
    "cid = \"\"\n",
    "secret = \"\"\n",
    "username = \"\"\n",
    "redirect_uri = \"http://localhost:9000/callback\""
   ]
  },
  {
   "cell_type": "code",
   "execution_count": 3,
   "id": "3bdc7e37",
   "metadata": {},
   "outputs": [],
   "source": [
    "scope = 'user-library-read playlist-modify-public playlist-read-private'\n",
    "\n",
    "client_credentials_manager = SpotifyClientCredentials(client_id = cid, client_secret=secret)\n",
    "\n",
    "sp = spotipy.Spotify(client_credentials_manager= client_credentials_manager)\n",
    "\n",
    "token = util.prompt_for_user_token(username,scope,cid,secret,redirect_uri)\n",
    "\n",
    "if token:\n",
    "  sp = spotipy.Spotify(auth=token)\n",
    "  \n",
    "else:\n",
    "  print(\"Can't get token for\", username)"
   ]
  },
  {
   "cell_type": "code",
   "execution_count": 4,
   "id": "c3151080",
   "metadata": {},
   "outputs": [],
   "source": [
    "import pandas as pd\n",
    "\n",
    "#\n",
    "sourcePlaylistID = ''\n",
    "sourcePlaylist = sp.user_playlist(username,sourcePlaylistID);\n",
    "tracks = sourcePlaylist[\"tracks\"];\n",
    "songs = tracks[\"items\"];\n",
    "\n",
    "track_ids = []\n",
    "track_names = []\n",
    "\n",
    "\n",
    "for i in range(0, len(songs)):\n",
    "  if songs[i]['track']['id']!=None:\n",
    "    track_ids.append(songs[i]['track']['id'])\n",
    "    track_names.append(songs[i]['track']['name'])\n",
    "    \n",
    "features = []\n",
    "\n",
    "\n",
    "for i in range(0,len(track_ids)):\n",
    "  audio_features  = sp.audio_features(track_ids[i])\n",
    "  for track in audio_features:\n",
    "    features.append(track)\n",
    "    \n",
    "    \n",
    "playlist_df = pd.DataFrame(features,index = track_names)\n"
   ]
  },
  {
   "cell_type": "code",
   "execution_count": 5,
   "id": "95e34110",
   "metadata": {},
   "outputs": [],
   "source": [
    "playlist_df = playlist_df[[\"id\", \"acousticness\", \"danceability\", \"duration_ms\", \"energy\", \"instrumentalness\",  \"key\", \"liveness\", \"loudness\", \"mode\", \"speechiness\", \"tempo\", \"valence\"]]\n"
   ]
  },
  {
   "cell_type": "code",
   "execution_count": 6,
   "id": "b187b18d",
   "metadata": {},
   "outputs": [
    {
     "data": {
      "text/plain": [
       "(10, 13)"
      ]
     },
     "execution_count": 6,
     "metadata": {},
     "output_type": "execute_result"
    }
   ],
   "source": [
    "playlist_df.shape\n"
   ]
  },
  {
   "cell_type": "code",
   "execution_count": 7,
   "id": "fcac2eac",
   "metadata": {},
   "outputs": [],
   "source": [
    "playlist_df['ratings']=[10, 9, 9, 10, 8, 6, 8, 4, 3, 7]\n"
   ]
  },
  {
   "cell_type": "code",
   "execution_count": 8,
   "id": "f6503202",
   "metadata": {},
   "outputs": [
    {
     "data": {
      "text/html": [
       "<div>\n",
       "<style scoped>\n",
       "    .dataframe tbody tr th:only-of-type {\n",
       "        vertical-align: middle;\n",
       "    }\n",
       "\n",
       "    .dataframe tbody tr th {\n",
       "        vertical-align: top;\n",
       "    }\n",
       "\n",
       "    .dataframe thead th {\n",
       "        text-align: right;\n",
       "    }\n",
       "</style>\n",
       "<table border=\"1\" class=\"dataframe\">\n",
       "  <thead>\n",
       "    <tr style=\"text-align: right;\">\n",
       "      <th></th>\n",
       "      <th>id</th>\n",
       "      <th>acousticness</th>\n",
       "      <th>danceability</th>\n",
       "      <th>duration_ms</th>\n",
       "      <th>energy</th>\n",
       "      <th>instrumentalness</th>\n",
       "      <th>key</th>\n",
       "      <th>liveness</th>\n",
       "      <th>loudness</th>\n",
       "      <th>mode</th>\n",
       "      <th>speechiness</th>\n",
       "      <th>tempo</th>\n",
       "      <th>valence</th>\n",
       "      <th>ratings</th>\n",
       "    </tr>\n",
       "  </thead>\n",
       "  <tbody>\n",
       "    <tr>\n",
       "      <th>Bam Bam (feat. Ed Sheeran)</th>\n",
       "      <td>2DB4DdfCFMw1iaR6JaR03a</td>\n",
       "      <td>0.1820</td>\n",
       "      <td>0.756</td>\n",
       "      <td>206071</td>\n",
       "      <td>0.697</td>\n",
       "      <td>0.00000</td>\n",
       "      <td>8</td>\n",
       "      <td>0.333</td>\n",
       "      <td>-6.377</td>\n",
       "      <td>1</td>\n",
       "      <td>0.0401</td>\n",
       "      <td>94.996</td>\n",
       "      <td>0.956</td>\n",
       "      <td>10</td>\n",
       "    </tr>\n",
       "    <tr>\n",
       "      <th>When You're Gone</th>\n",
       "      <td>0U1W2LZVUX7qTm7dDpqxh6</td>\n",
       "      <td>0.0248</td>\n",
       "      <td>0.603</td>\n",
       "      <td>172267</td>\n",
       "      <td>0.691</td>\n",
       "      <td>0.00000</td>\n",
       "      <td>5</td>\n",
       "      <td>0.583</td>\n",
       "      <td>-5.805</td>\n",
       "      <td>1</td>\n",
       "      <td>0.0372</td>\n",
       "      <td>147.148</td>\n",
       "      <td>0.577</td>\n",
       "      <td>9</td>\n",
       "    </tr>\n",
       "    <tr>\n",
       "      <th>34+35</th>\n",
       "      <td>6Im9k8u9iIzKMrmV7BWtlF</td>\n",
       "      <td>0.2370</td>\n",
       "      <td>0.830</td>\n",
       "      <td>173711</td>\n",
       "      <td>0.585</td>\n",
       "      <td>0.00000</td>\n",
       "      <td>0</td>\n",
       "      <td>0.248</td>\n",
       "      <td>-6.476</td>\n",
       "      <td>1</td>\n",
       "      <td>0.0940</td>\n",
       "      <td>109.978</td>\n",
       "      <td>0.485</td>\n",
       "      <td>9</td>\n",
       "    </tr>\n",
       "    <tr>\n",
       "      <th>Wildest Dreams</th>\n",
       "      <td>3fVnlF4pGqWI9flVENcT28</td>\n",
       "      <td>0.0709</td>\n",
       "      <td>0.553</td>\n",
       "      <td>220440</td>\n",
       "      <td>0.664</td>\n",
       "      <td>0.00560</td>\n",
       "      <td>8</td>\n",
       "      <td>0.106</td>\n",
       "      <td>-7.417</td>\n",
       "      <td>1</td>\n",
       "      <td>0.0741</td>\n",
       "      <td>140.060</td>\n",
       "      <td>0.467</td>\n",
       "      <td>10</td>\n",
       "    </tr>\n",
       "    <tr>\n",
       "      <th>Story of My Life</th>\n",
       "      <td>4nVBt6MZDDP6tRVdQTgxJg</td>\n",
       "      <td>0.2250</td>\n",
       "      <td>0.600</td>\n",
       "      <td>245493</td>\n",
       "      <td>0.663</td>\n",
       "      <td>0.00000</td>\n",
       "      <td>3</td>\n",
       "      <td>0.119</td>\n",
       "      <td>-5.802</td>\n",
       "      <td>1</td>\n",
       "      <td>0.0477</td>\n",
       "      <td>121.070</td>\n",
       "      <td>0.286</td>\n",
       "      <td>8</td>\n",
       "    </tr>\n",
       "    <tr>\n",
       "      <th>Levitating</th>\n",
       "      <td>39LLxExYz6ewLAcYrzQQyP</td>\n",
       "      <td>0.0561</td>\n",
       "      <td>0.695</td>\n",
       "      <td>203808</td>\n",
       "      <td>0.884</td>\n",
       "      <td>0.00000</td>\n",
       "      <td>6</td>\n",
       "      <td>0.213</td>\n",
       "      <td>-2.278</td>\n",
       "      <td>0</td>\n",
       "      <td>0.0753</td>\n",
       "      <td>103.014</td>\n",
       "      <td>0.914</td>\n",
       "      <td>6</td>\n",
       "    </tr>\n",
       "    <tr>\n",
       "      <th>Rude</th>\n",
       "      <td>6RtPijgfPKROxEzTHNRiDp</td>\n",
       "      <td>0.0422</td>\n",
       "      <td>0.773</td>\n",
       "      <td>224840</td>\n",
       "      <td>0.758</td>\n",
       "      <td>0.00000</td>\n",
       "      <td>1</td>\n",
       "      <td>0.305</td>\n",
       "      <td>-4.993</td>\n",
       "      <td>1</td>\n",
       "      <td>0.0381</td>\n",
       "      <td>144.033</td>\n",
       "      <td>0.925</td>\n",
       "      <td>8</td>\n",
       "    </tr>\n",
       "    <tr>\n",
       "      <th>Lights</th>\n",
       "      <td>11ozIUBoXAgRTVWelDn4pL</td>\n",
       "      <td>0.0721</td>\n",
       "      <td>0.703</td>\n",
       "      <td>244267</td>\n",
       "      <td>0.731</td>\n",
       "      <td>0.00191</td>\n",
       "      <td>8</td>\n",
       "      <td>0.138</td>\n",
       "      <td>-6.283</td>\n",
       "      <td>0</td>\n",
       "      <td>0.0311</td>\n",
       "      <td>120.028</td>\n",
       "      <td>0.719</td>\n",
       "      <td>4</td>\n",
       "    </tr>\n",
       "    <tr>\n",
       "      <th>Heart Attack</th>\n",
       "      <td>1V6gIisPpYqgFeWbMLI0bA</td>\n",
       "      <td>0.0738</td>\n",
       "      <td>0.504</td>\n",
       "      <td>210840</td>\n",
       "      <td>0.785</td>\n",
       "      <td>0.00000</td>\n",
       "      <td>8</td>\n",
       "      <td>0.239</td>\n",
       "      <td>-4.802</td>\n",
       "      <td>1</td>\n",
       "      <td>0.1040</td>\n",
       "      <td>173.968</td>\n",
       "      <td>0.502</td>\n",
       "      <td>3</td>\n",
       "    </tr>\n",
       "    <tr>\n",
       "      <th>Love Me Like You Do</th>\n",
       "      <td>0Cy7wt6IlRfBPHXXjmZbcP</td>\n",
       "      <td>0.2700</td>\n",
       "      <td>0.489</td>\n",
       "      <td>253520</td>\n",
       "      <td>0.597</td>\n",
       "      <td>0.00000</td>\n",
       "      <td>5</td>\n",
       "      <td>0.105</td>\n",
       "      <td>-6.633</td>\n",
       "      <td>0</td>\n",
       "      <td>0.0292</td>\n",
       "      <td>95.012</td>\n",
       "      <td>0.324</td>\n",
       "      <td>7</td>\n",
       "    </tr>\n",
       "  </tbody>\n",
       "</table>\n",
       "</div>"
      ],
      "text/plain": [
       "                                                id  acousticness  \\\n",
       "Bam Bam (feat. Ed Sheeran)  2DB4DdfCFMw1iaR6JaR03a        0.1820   \n",
       "When You're Gone            0U1W2LZVUX7qTm7dDpqxh6        0.0248   \n",
       "34+35                       6Im9k8u9iIzKMrmV7BWtlF        0.2370   \n",
       "Wildest Dreams              3fVnlF4pGqWI9flVENcT28        0.0709   \n",
       "Story of My Life            4nVBt6MZDDP6tRVdQTgxJg        0.2250   \n",
       "Levitating                  39LLxExYz6ewLAcYrzQQyP        0.0561   \n",
       "Rude                        6RtPijgfPKROxEzTHNRiDp        0.0422   \n",
       "Lights                      11ozIUBoXAgRTVWelDn4pL        0.0721   \n",
       "Heart Attack                1V6gIisPpYqgFeWbMLI0bA        0.0738   \n",
       "Love Me Like You Do         0Cy7wt6IlRfBPHXXjmZbcP        0.2700   \n",
       "\n",
       "                            danceability  duration_ms  energy  \\\n",
       "Bam Bam (feat. Ed Sheeran)         0.756       206071   0.697   \n",
       "When You're Gone                   0.603       172267   0.691   \n",
       "34+35                              0.830       173711   0.585   \n",
       "Wildest Dreams                     0.553       220440   0.664   \n",
       "Story of My Life                   0.600       245493   0.663   \n",
       "Levitating                         0.695       203808   0.884   \n",
       "Rude                               0.773       224840   0.758   \n",
       "Lights                             0.703       244267   0.731   \n",
       "Heart Attack                       0.504       210840   0.785   \n",
       "Love Me Like You Do                0.489       253520   0.597   \n",
       "\n",
       "                            instrumentalness  key  liveness  loudness  mode  \\\n",
       "Bam Bam (feat. Ed Sheeran)           0.00000    8     0.333    -6.377     1   \n",
       "When You're Gone                     0.00000    5     0.583    -5.805     1   \n",
       "34+35                                0.00000    0     0.248    -6.476     1   \n",
       "Wildest Dreams                       0.00560    8     0.106    -7.417     1   \n",
       "Story of My Life                     0.00000    3     0.119    -5.802     1   \n",
       "Levitating                           0.00000    6     0.213    -2.278     0   \n",
       "Rude                                 0.00000    1     0.305    -4.993     1   \n",
       "Lights                               0.00191    8     0.138    -6.283     0   \n",
       "Heart Attack                         0.00000    8     0.239    -4.802     1   \n",
       "Love Me Like You Do                  0.00000    5     0.105    -6.633     0   \n",
       "\n",
       "                            speechiness    tempo  valence  ratings  \n",
       "Bam Bam (feat. Ed Sheeran)       0.0401   94.996    0.956       10  \n",
       "When You're Gone                 0.0372  147.148    0.577        9  \n",
       "34+35                            0.0940  109.978    0.485        9  \n",
       "Wildest Dreams                   0.0741  140.060    0.467       10  \n",
       "Story of My Life                 0.0477  121.070    0.286        8  \n",
       "Levitating                       0.0753  103.014    0.914        6  \n",
       "Rude                             0.0381  144.033    0.925        8  \n",
       "Lights                           0.0311  120.028    0.719        4  \n",
       "Heart Attack                     0.1040  173.968    0.502        3  \n",
       "Love Me Like You Do              0.0292   95.012    0.324        7  "
      ]
     },
     "execution_count": 8,
     "metadata": {},
     "output_type": "execute_result"
    }
   ],
   "source": [
    "playlist_df"
   ]
  },
  {
   "cell_type": "code",
   "execution_count": 9,
   "id": "8b6d8d79",
   "metadata": {},
   "outputs": [],
   "source": [
    "X_train = playlist_df.drop(['id', 'ratings'], axis=1)\n",
    "y_train = playlist_df['ratings']"
   ]
  },
  {
   "cell_type": "code",
   "execution_count": 10,
   "id": "72009dee",
   "metadata": {},
   "outputs": [
    {
     "data": {
      "image/png": "[encoded data removed]",
      "text/plain": [
       "<Figure size 720x504 with 1 Axes>"
      ]
     },
     "metadata": {
      "image/png": {
       "height": 429,
       "width": 618
      },
      "needs_background": "light"
     },
     "output_type": "display_data"
    }
   ],
   "source": [
    "import numpy as np\n",
    "from sklearn import decomposition\n",
    "from sklearn.preprocessing import StandardScaler\n",
    "import matplotlib.pyplot as plt\n",
    "import seaborn as sns; sns.set(style='white')\n",
    "%matplotlib inline\n",
    "%config InlineBackend.figure_format = 'retina'\n",
    "\n",
    "X_scaled = StandardScaler().fit_transform(X_train)\n",
    "\n",
    "pca = decomposition.PCA().fit(X_scaled)\n",
    "\n",
    "\n",
    "plt.figure(figsize=(10,7))\n",
    "plt.plot(np.cumsum(pca.explained_variance_ratio_),color='k',lw=2)\n",
    "plt.xlabel('Number of components')\n",
    "plt.ylabel('Total explained variance')\n",
    "plt.xlim(0,12)\n",
    "plt.yticks(np.arange(0,1.1,0.1))\n",
    "plt.axvline(8,c='b')\n",
    "plt.axhline(0.95,c='r')\n",
    "plt.show();"
   ]
  },
  {
   "cell_type": "code",
   "execution_count": 11,
   "id": "ee1a88de",
   "metadata": {},
   "outputs": [],
   "source": [
    "# Fit your dataset to the optimal pca\n",
    "pca = decomposition.PCA(n_components=8)\n",
    "X_pca = pca.fit_transform(X_scaled)"
   ]
  },
  {
   "cell_type": "code",
   "execution_count": 12,
   "id": "46a4465b",
   "metadata": {},
   "outputs": [
    {
     "data": {
      "text/plain": [
       "(10, 60)"
      ]
     },
     "execution_count": 12,
     "metadata": {},
     "output_type": "execute_result"
    }
   ],
   "source": [
    "from sklearn.feature_extraction.text import TfidfVectorizer\n",
    "v = TfidfVectorizer(sublinear_tf = True, ngram_range=(1,6),\n",
    "                   max_features=10000)\n",
    "X_names_sparse=v.fit_transform(track_names)\n",
    "X_names_sparse.shape"
   ]
  },
  {
   "cell_type": "code",
   "execution_count": 13,
   "id": "ca85dac4",
   "metadata": {},
   "outputs": [],
   "source": [
    "from scipy.sparse import csr_matrix, hstack\n",
    "\n",
    "X_train_last = csr_matrix(hstack([X_pca, X_names_sparse]))"
   ]
  },
  {
   "cell_type": "code",
   "execution_count": 14,
   "id": "9962aaea",
   "metadata": {},
   "outputs": [],
   "source": [
    "from sklearn.model_selection import StratifiedKFold, GridSearchCV\n",
    "\n",
    "skf = StratifiedKFold(n_splits=2,shuffle=True,random_state=42)"
   ]
  },
  {
   "cell_type": "code",
   "execution_count": 15,
   "id": "d951bdc5",
   "metadata": {},
   "outputs": [
    {
     "name": "stdout",
     "output_type": "stream",
     "text": [
      "Fitting 2 folds for each of 9 candidates, totalling 18 fits\n"
     ]
    },
    {
     "name": "stderr",
     "output_type": "stream",
     "text": [
      "C:\\Users\\acer\\anaconda3\\lib\\site-packages\\sklearn\\model_selection\\_split.py:666: UserWarning: The least populated class in y has only 1 members, which is less than n_splits=2.\n",
      "  warnings.warn((\"The least populated class in y has only %d\"\n",
      "C:\\Users\\acer\\anaconda3\\lib\\site-packages\\sklearn\\model_selection\\_search.py:922: UserWarning: One or more of the test scores are non-finite: [0.1 0.1 0.  0.  0.  nan nan nan nan]\n",
      "  warnings.warn(\n"
     ]
    },
    {
     "data": {
      "text/plain": [
       "({'n_neighbors': 1}, 0.1)"
      ]
     },
     "execution_count": 15,
     "metadata": {},
     "output_type": "execute_result"
    }
   ],
   "source": [
    "from sklearn.neighbors import KNeighborsClassifier\n",
    "\n",
    "knn_params = {'n_neighbors':range(1,10)}\n",
    "knn = KNeighborsClassifier(n_jobs=-1)\n",
    "\n",
    "knn_grid= GridSearchCV(knn,knn_params,cv=skf,n_jobs =-1,verbose=True)\n",
    "knn_grid.fit(X_train_last,y_train)\n",
    "knn_grid.best_params_, knn_grid.best_score_"
   ]
  },
  {
   "cell_type": "code",
   "execution_count": 16,
   "id": "f1e3c627",
   "metadata": {},
   "outputs": [
    {
     "name": "stdout",
     "output_type": "stream",
     "text": [
      "Fitting 2 folds for each of 48 candidates, totalling 96 fits\n"
     ]
    },
    {
     "name": "stderr",
     "output_type": "stream",
     "text": [
      "C:\\Users\\acer\\anaconda3\\lib\\site-packages\\sklearn\\model_selection\\_split.py:666: UserWarning: The least populated class in y has only 1 members, which is less than n_splits=2.\n",
      "  warnings.warn((\"The least populated class in y has only %d\"\n",
      "C:\\Users\\acer\\anaconda3\\lib\\site-packages\\sklearn\\model_selection\\_search.py:922: UserWarning: One or more of the test scores are non-finite: [nan nan nan nan nan nan nan nan nan nan nan nan nan nan nan nan nan nan\n",
      " nan nan nan nan nan nan nan nan nan nan nan nan nan nan nan nan nan nan\n",
      " nan nan nan nan nan nan nan nan nan nan nan nan]\n",
      "  warnings.warn(\n"
     ]
    },
    {
     "data": {
      "text/plain": [
       "(RandomForestClassifier(max_depth=3, max_features=4, n_jobs=-1, oob_score=True,\n",
       "                        random_state=42),\n",
       " nan)"
      ]
     },
     "execution_count": 16,
     "metadata": {},
     "output_type": "execute_result"
    }
   ],
   "source": [
    "from sklearn.ensemble import RandomForestClassifier\n",
    "parameters = {'max_features':[4,7,8,10],'min_samples_leaf':[1,3,5,8],'max_depth':[3,5,8]}\n",
    "rfc = RandomForestClassifier(n_estimators=100,random_state=42,n_jobs=-1,oob_score=True)\n",
    "forest_grid = GridSearchCV(rfc,parameters,n_jobs=-1,cv=skf,verbose=1)\n",
    "forest_grid.fit(X_train_last,y_train)\n",
    "forest_grid.best_estimator_ , forest_grid.best_score_"
   ]
  },
  {
   "cell_type": "code",
   "execution_count": 17,
   "id": "e721f3e8",
   "metadata": {},
   "outputs": [
    {
     "name": "stdout",
     "output_type": "stream",
     "text": [
      "Fitting 2 folds for each of 150 candidates, totalling 300 fits\n"
     ]
    },
    {
     "name": "stderr",
     "output_type": "stream",
     "text": [
      "C:\\Users\\acer\\anaconda3\\lib\\site-packages\\sklearn\\model_selection\\_split.py:666: UserWarning: The least populated class in y has only 1 members, which is less than n_splits=2.\n",
      "  warnings.warn((\"The least populated class in y has only %d\"\n"
     ]
    },
    {
     "data": {
      "text/plain": [
       "(DecisionTreeClassifier(max_depth=5, max_features=13), 0.30000000000000004)"
      ]
     },
     "execution_count": 17,
     "metadata": {},
     "output_type": "execute_result"
    }
   ],
   "source": [
    "from sklearn.tree import DecisionTreeClassifier\n",
    "\n",
    "tree= DecisionTreeClassifier()\n",
    "\n",
    "tree_params = {'max_depth':range(1,11),'max_features':range(4,19)}\n",
    "tree_grid = GridSearchCV(tree,tree_params,cv=skf,n_jobs=-1,verbose=True)\n",
    "tree_grid.fit(X_train_last,y_train)\n",
    "tree_grid.best_estimator_ , tree_grid.best_score_\n"
   ]
  },
  {
   "cell_type": "code",
   "execution_count": 18,
   "id": "323c2a4a",
   "metadata": {},
   "outputs": [],
   "source": [
    "rec_tracks=[]\n",
    "\n",
    "for i in playlist_df['id'].values.tolist():\n",
    "  rec_tracks += sp.recommendations(seed_tracks=[i],limit = int(len(playlist_df)/2))['tracks'];\n",
    "  \n",
    "\n",
    "rec_track_ids=[]\n",
    "rec_track_names = []\n",
    "for i in rec_tracks:\n",
    "  rec_track_ids.append(i['id'])\n",
    "  rec_track_names.append(i['name'])"
   ]
  },
  {
   "cell_type": "code",
   "execution_count": 19,
   "id": "b7062963",
   "metadata": {},
   "outputs": [],
   "source": [
    "rec_features=[]\n",
    "\n",
    "for i in range(0,len(rec_track_ids)):\n",
    "  rec_audio_features = sp.audio_features(rec_track_ids[i])\n",
    "  for track in rec_audio_features:\n",
    "    rec_features.append(track)\n",
    "    \n",
    "    \n",
    "rec_playlist_df= pd.DataFrame(rec_features,index = rec_track_ids)"
   ]
  },
  {
   "cell_type": "code",
   "execution_count": 20,
   "id": "63f78315",
   "metadata": {},
   "outputs": [],
   "source": [
    "rec_playlist_df = rec_playlist_df[[\"acousticness\", \"danceability\", \"duration_ms\", \"energy\", \"instrumentalness\",  \"key\", \"liveness\", \"loudness\", \"mode\", \"speechiness\", \"tempo\", \"valence\"]]\n"
   ]
  },
  {
   "cell_type": "code",
   "execution_count": 21,
   "id": "c9e92fcc",
   "metadata": {},
   "outputs": [],
   "source": [
    "tree_grid.best_estimator_.fit(X_train_last,y_train)\n",
    "rec_playlist_df_scaled = StandardScaler().fit_transform(rec_playlist_df)\n",
    "X_test_pca  = pca.transform(rec_playlist_df_scaled)\n",
    "X_test_names = v.transform(rec_track_names)\n",
    "X_test_last = csr_matrix(hstack([X_test_pca,X_test_names]))\n",
    "y_pred_class = tree_grid.best_estimator_.predict(X_test_last)"
   ]
  },
  {
   "cell_type": "code",
   "execution_count": 22,
   "id": "e4327048",
   "metadata": {},
   "outputs": [],
   "source": [
    "rec_playlist_df['ratings']=y_pred_class\n",
    "rec_playlist_df = rec_playlist_df.sort_values('ratings',ascending=False)\n",
    "rec_playlist_df = rec_playlist_df.reset_index()\n",
    "recs_to_add = rec_playlist_df[rec_playlist_df['ratings']>=9]['index'].values.tolist()"
   ]
  },
  {
   "cell_type": "code",
   "execution_count": 23,
   "id": "3c136bc1",
   "metadata": {},
   "outputs": [],
   "source": [
    "username = '31fggg7ujoft7ljztwddvqiliqgi'\n",
    "playlist_recs =sp.user_playlist_create(username,name=\"Recommended Songs for Playlist - {}\".format(sourcePlaylist['name']))"
   ]
  },
  {
   "cell_type": "code",
   "execution_count": 24,
   "id": "a1f26d2d",
   "metadata": {},
   "outputs": [
    {
     "data": {
      "text/plain": [
       "{'collaborative': False,\n",
       " 'description': '',\n",
       " 'external_urls': {'spotify': 'https://open.spotify.com/playlist/15c2DAkpRH8DAm0qLpH0ze'},\n",
       " 'followers': {'href': None, 'total': 0},\n",
       " 'href': 'https://api.spotify.com/v1/playlists/15c2DAkpRH8DAm0qLpH0ze',\n",
       " 'id': '15c2DAkpRH8DAm0qLpH0ze',\n",
       " 'images': [],\n",
       " 'name': \"Recommended Songs for Playlist - DS'\",\n",
       " 'owner': {'display_name': 'Dhvanish Samanta',\n",
       "  'external_urls': {'spotify': 'https://open.spotify.com/user/31fggg7ujoft7ljztwddvqiliqgi'},\n",
       "  'href': 'https://api.spotify.com/v1/users/31fggg7ujoft7ljztwddvqiliqgi',\n",
       "  'id': '31fggg7ujoft7ljztwddvqiliqgi',\n",
       "  'type': 'user',\n",
       "  'uri': 'spotify:user:31fggg7ujoft7ljztwddvqiliqgi'},\n",
       " 'primary_color': None,\n",
       " 'public': True,\n",
       " 'snapshot_id': 'MSwzNDJkOGJkMWJhZTMyNGM3ZjJlZmZlYmMzOTc4ZTk2OTA0YWJmNmEz',\n",
       " 'tracks': {'href': 'https://api.spotify.com/v1/playlists/15c2DAkpRH8DAm0qLpH0ze/tracks',\n",
       "  'items': [],\n",
       "  'limit': 100,\n",
       "  'next': None,\n",
       "  'offset': 0,\n",
       "  'previous': None,\n",
       "  'total': 0},\n",
       " 'type': 'playlist',\n",
       " 'uri': 'spotify:playlist:15c2DAkpRH8DAm0qLpH0ze'}"
      ]
     },
     "execution_count": 24,
     "metadata": {},
     "output_type": "execute_result"
    }
   ],
   "source": [
    "playlist_recs"
   ]
  },
  {
   "cell_type": "code",
   "execution_count": 25,
   "id": "93a3194c",
   "metadata": {},
   "outputs": [
    {
     "data": {
      "text/plain": [
       "23"
      ]
     },
     "execution_count": 25,
     "metadata": {},
     "output_type": "execute_result"
    }
   ],
   "source": [
    "len(recs_to_add)"
   ]
  },
  {
   "cell_type": "code",
   "execution_count": 26,
   "id": "be24b11a",
   "metadata": {},
   "outputs": [],
   "source": [
    "sp.user_playlist_add_tracks(username,playlist_recs['id'],recs_to_add);\n"
   ]
  }
 ],
 "metadata": {
  "kernelspec": {
   "display_name": "Python 3 (ipykernel)",
   "language": "python",
   "name": "python3"
  },
  "language_info": {
   "codemirror_mode": {
    "name": "ipython",
    "version": 3
   },
   "file_extension": ".py",
   "mimetype": "text/x-python",
   "name": "python",
   "nbconvert_exporter": "python",
   "pygments_lexer": "ipython3",
   "version": "3.9.7"
  }
 },
 "nbformat": 4,
 "nbformat_minor": 5
}
